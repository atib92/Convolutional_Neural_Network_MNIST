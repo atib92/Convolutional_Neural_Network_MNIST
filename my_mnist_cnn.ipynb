{
 "cells": [
  {
   "cell_type": "code",
   "execution_count": 1,
   "metadata": {},
   "outputs": [],
   "source": [
    "# MNIST DIGIT CLASSIFICATION USING A CONVOLUTIONAL NEURAL NETWORK"
   ]
  },
  {
   "cell_type": "code",
   "execution_count": 2,
   "metadata": {},
   "outputs": [
    {
     "name": "stderr",
     "output_type": "stream",
     "text": [
      "C:\\Users\\matibudd\\AppData\\Local\\Continuum\\anaconda3\\lib\\site-packages\\h5py\\__init__.py:36: FutureWarning: Conversion of the second argument of issubdtype from `float` to `np.floating` is deprecated. In future, it will be treated as `np.float64 == np.dtype(float).type`.\n",
      "  from ._conv import register_converters as _register_converters\n"
     ]
    }
   ],
   "source": [
    "# Import lib\n",
    "import pandas as pd\n",
    "import numpy as np\n",
    "import tensorflow as tf\n",
    "import matplotlib.pyplot as plt\n",
    "import os\n",
    "%matplotlib inline"
   ]
  },
  {
   "cell_type": "code",
   "execution_count": 3,
   "metadata": {},
   "outputs": [
    {
     "data": {
      "text/plain": [
       "['.ipynb_checkpoints',\n",
       " 'my_mnist_cnn.ipynb',\n",
       " 't10k-images-idx3-ubyte.gz',\n",
       " 't10k-labels-idx1-ubyte.gz',\n",
       " 'train-images-idx3-ubyte.gz',\n",
       " 'train-labels-idx1-ubyte.gz']"
      ]
     },
     "execution_count": 3,
     "metadata": {},
     "output_type": "execute_result"
    }
   ],
   "source": [
    "files = os.listdir()\n",
    "files"
   ]
  },
  {
   "cell_type": "code",
   "execution_count": 4,
   "metadata": {},
   "outputs": [],
   "source": [
    "import gzip\n",
    "f_train_images = gzip.open('train-images-idx3-ubyte.gz','r')\n",
    "f_test_images  = gzip.open('t10k-images-idx3-ubyte.gz','r')\n",
    "f_train_labels = gzip.open('train-labels-idx1-ubyte.gz','r')\n",
    "f_test_labels  = gzip.open('t10k-labels-idx1-ubyte.gz','r')"
   ]
  },
  {
   "cell_type": "code",
   "execution_count": 5,
   "metadata": {},
   "outputs": [
    {
     "data": {
      "text/plain": [
       "'TRAINING SET LABEL FILE (train-labels-idx1-ubyte):\\n[offset] [type]          [value]          [description] \\n0000     32 bit integer  0x00000801(2049) magic number (MSB first) \\n0004     32 bit integer  60000            number of items \\n0008     unsigned byte   ??               label \\n0009     unsigned byte   ??               label \\n........ \\nxxxx     unsigned byte   ??               label\\nThe labels values are 0 to 9.'"
      ]
     },
     "execution_count": 5,
     "metadata": {},
     "output_type": "execute_result"
    }
   ],
   "source": [
    "'''TRAINING SET IMAGE FILE (train-images-idx3-ubyte):\n",
    "[offset] [type]          [value]          [description] \n",
    "0000     32 bit integer  0x00000803(2051) magic number \n",
    "0004     32 bit integer  60000            number of images \n",
    "0008     32 bit integer  28               number of rows \n",
    "0012     32 bit integer  28               number of columns \n",
    "0016     unsigned byte   ??               pixel \n",
    "0017     unsigned byte   ??               pixel \n",
    "........ \n",
    "xxxx     unsigned byte   ??               pixel'''\n",
    "\n",
    "'''TRAINING SET LABEL FILE (train-labels-idx1-ubyte):\n",
    "[offset] [type]          [value]          [description] \n",
    "0000     32 bit integer  0x00000801(2049) magic number (MSB first) \n",
    "0004     32 bit integer  60000            number of items \n",
    "0008     unsigned byte   ??               label \n",
    "0009     unsigned byte   ??               label \n",
    "........ \n",
    "xxxx     unsigned byte   ??               label\n",
    "The labels values are 0 to 9.'''"
   ]
  },
  {
   "cell_type": "code",
   "execution_count": 6,
   "metadata": {},
   "outputs": [],
   "source": [
    "image_size        = 28\n",
    "\n",
    "#lets work with only 600 training and 100 test data to get the algo up and runinig\n",
    "\n",
    "num_train_images  = 60000 \n",
    "num_test_images   = 10000\n",
    "\n",
    "# READ FIRST 16 BYTES TO REACH START OF PIXEL DATA\n",
    "\n",
    "f_train_images.read(16)\n",
    "f_test_images.read(16)\n",
    "\n",
    "# READ FIRST 8 BYTES TO REACH START OF LABEL DATA\n",
    "\n",
    "f_train_labels.read(8)\n",
    "f_test_labels.read(8)\n",
    "\n",
    "# STORE DATA IN BYTE FORMAT \n",
    "\n",
    "buf_train = f_train_images.read(image_size * image_size * num_train_images)\n",
    "buf_test  = f_test_images.read(image_size * image_size * num_test_images)\n",
    "\n",
    "buf_train_label = f_train_labels.read(num_train_images)\n",
    "buf_test_label = f_test_labels.read(num_test_images)\n",
    "\n",
    "# CONVERT DATA FROM BYTE FORMAT TO NUMPY ARRAY SO THAT WE CAN EASILY USE RESHAPE AND OTHER NUMPY METHODS\n",
    "\n",
    "data_train_images = np.frombuffer(buf_train, dtype=np.uint8).astype(np.float32)\n",
    "data_test_images  = np.frombuffer(buf_test, dtype=np.uint8).astype(np.float32)\n",
    "\n",
    "data_train_label  = np.frombuffer(buf_train_label, dtype=np.uint8).astype(np.float32)\n",
    "data_test_label   = np.frombuffer(buf_test_label, dtype=np.uint8).astype(np.float32)"
   ]
  },
  {
   "cell_type": "code",
   "execution_count": 7,
   "metadata": {},
   "outputs": [],
   "source": [
    "train_images  = data_train_images.reshape([num_train_images,image_size*image_size])\n",
    "test_images   = data_test_images.reshape([num_test_images,image_size*image_size])\n",
    "train_labels  = data_train_label.reshape([num_train_images,-1])\n",
    "test_labels   = data_test_label.reshape([num_test_images,-1])"
   ]
  },
  {
   "cell_type": "code",
   "execution_count": 8,
   "metadata": {},
   "outputs": [
    {
     "name": "stdout",
     "output_type": "stream",
     "text": [
      "[(60000, 784), (10000, 784), (60000, 1), (10000, 1)]\n"
     ]
    }
   ],
   "source": [
    "# WE CAN NOW THINK OF IMAGE DATA AS A NX28X28 , LABELS AS NX1 ARRAY \n",
    "print([np.shape(train_images), np.shape(test_images), np.shape(train_labels), np.shape(test_labels)])"
   ]
  },
  {
   "cell_type": "code",
   "execution_count": 9,
   "metadata": {},
   "outputs": [
    {
     "data": {
      "text/plain": [
       "<matplotlib.image.AxesImage at 0x19f9543b5f8>"
      ]
     },
     "execution_count": 9,
     "metadata": {},
     "output_type": "execute_result"
    },
    {
     "data": {
      "image/png": "[encoded data removed]",
      "text/plain": [
       "<matplotlib.figure.Figure at 0x19f953c3978>"
      ]
     },
     "metadata": {},
     "output_type": "display_data"
    }
   ],
   "source": [
    "# EXAMPLE\n",
    "plt.imshow(train_images[num_train_images-1].reshape(28,28))"
   ]
  },
  {
   "cell_type": "code",
   "execution_count": 10,
   "metadata": {},
   "outputs": [
    {
     "data": {
      "text/plain": [
       "'\\ntrain_images   NX784\\ntrain_labels   NX1\\ntest_images    MX784\\ntest_labels    MX1\\n'"
      ]
     },
     "execution_count": 10,
     "metadata": {},
     "output_type": "execute_result"
    }
   ],
   "source": [
    "# INPUT DATA \n",
    "'''\n",
    "train_images   NX784\n",
    "train_labels   NX1\n",
    "test_images    MX784\n",
    "test_labels    MX1\n",
    "'''\n",
    "# Convert labels to NX10 and MX10"
   ]
  },
  {
   "cell_type": "code",
   "execution_count": 11,
   "metadata": {},
   "outputs": [],
   "source": [
    "def create_mnist_label(label,classes):\n",
    "    label_mat = np.zeros([len(label),classes])\n",
    "    for i in range(len(label)):\n",
    "        label_mat[i][label[i][0]] = 1.0\n",
    "    return label_mat"
   ]
  },
  {
   "cell_type": "code",
   "execution_count": 12,
   "metadata": {},
   "outputs": [],
   "source": [
    "train_labels = create_mnist_label(train_labels.astype(int),10)\n",
    "test_labels = create_mnist_label(test_labels.astype(int),10)"
   ]
  },
  {
   "cell_type": "code",
   "execution_count": 13,
   "metadata": {},
   "outputs": [],
   "source": [
    "# SECTION 2"
   ]
  },
  {
   "cell_type": "code",
   "execution_count": 14,
   "metadata": {},
   "outputs": [],
   "source": [
    "# define weights\n",
    "def weight(shape):\n",
    "    return tf.Variable(initial_value=tf.truncated_normal(shape=shape,mean=0.0,stddev=0.01,dtype=tf.float32))\n",
    "# define bias\n",
    "def bias(shape):\n",
    "    return tf.Variable(tf.constant(0.1,dtype=tf.float32,shape=shape))"
   ]
  },
  {
   "cell_type": "code",
   "execution_count": 15,
   "metadata": {},
   "outputs": [],
   "source": [
    "# define a 2-D convolution of an imput image with a filter\n",
    "# try to read the documentation for tf.nn.conv2d\n",
    "def conv2_D(in_image,in_filter):\n",
    "    #in_image  => [batch X H X W X Channels]\n",
    "    #in_filter => [h X w X in_channel X out_channel]\n",
    "    return tf.nn.conv2d(in_image, in_filter, strides=[1,1,1,1], padding = 'SAME')"
   ]
  },
  {
   "cell_type": "code",
   "execution_count": 16,
   "metadata": {},
   "outputs": [],
   "source": [
    "# define a convolution nerural layer\n",
    "def convolution_layer(image, filter_shape):\n",
    "    #create filter of shape = filter_shape\n",
    "    in_filter = weight(filter_shape)\n",
    "    #one bias per in_channel like we have one bias per neuron in dense layer\n",
    "    in_bias   = bias([filter_shape[3]]) # input in shape format and not in int\n",
    "    return tf.nn.relu(conv2_D(image,in_filter)+in_bias)"
   ]
  },
  {
   "cell_type": "code",
   "execution_count": 17,
   "metadata": {},
   "outputs": [],
   "source": [
    "# define a dense neural layer\n",
    "def dense_layer(flat_image, num_neurons):\n",
    "    #flat_image => [Batch X L]\n",
    "    in_weight = weight([int(flat_image.get_shape()[1]),num_neurons])\n",
    "    in_bias = bias([num_neurons])# input in shape format and not int\n",
    "    return tf.nn.relu(tf.matmul(flat_image,in_weight)+in_bias) # python '+' will take care of replicating b 'Batch' number of times"
   ]
  },
  {
   "cell_type": "code",
   "execution_count": 18,
   "metadata": {},
   "outputs": [],
   "source": [
    "# define a pooling layer\n",
    "def pool_2(image):\n",
    "    return tf.nn.max_pool(image,ksize=[1,2,2,1],strides=[1,2,2,1], padding='SAME')"
   ]
  },
  {
   "cell_type": "code",
   "execution_count": 19,
   "metadata": {},
   "outputs": [
    {
     "data": {
      "text/plain": [
       "'\\ntrain_images   NX784\\ntrain_labels   NX10\\ntest_images    MX784\\ntest_labels    MX10\\n'"
      ]
     },
     "execution_count": 19,
     "metadata": {},
     "output_type": "execute_result"
    }
   ],
   "source": [
    "# INPUT DATA \n",
    "'''\n",
    "train_images   NX784\n",
    "train_labels   NX10\n",
    "test_images    MX784\n",
    "test_labels    MX10\n",
    "'''"
   ]
  },
  {
   "cell_type": "code",
   "execution_count": 20,
   "metadata": {},
   "outputs": [],
   "source": [
    "# define next batch utiltity\n",
    "def get_next_batch(train_images,train_labels,itr,batch_size):\n",
    "    # first dimension of both images and the labels are the indices \n",
    "    return (train_images[itr*batch_size:(itr+1)*batch_size], train_labels[itr*batch_size:(itr+1)*batch_size])"
   ]
  },
  {
   "cell_type": "code",
   "execution_count": 21,
   "metadata": {},
   "outputs": [],
   "source": [
    "# The input that will be fed will be batch_size X 784\n",
    "X = tf.placeholder(dtype=tf.float32,shape=[None,image_size*image_size])\n",
    "# The algo needs a reshaped image of batch_size X 28 X 28 X 1 (Use 'None' for placeholders and -1 for tensor)\n",
    "X_image = tf.reshape(X,shape=[-1,image_size,image_size,1])"
   ]
  },
  {
   "cell_type": "code",
   "execution_count": 22,
   "metadata": {},
   "outputs": [],
   "source": [
    "y = tf.placeholder(dtype=tf.float32,shape=[None,10]) # 10 Classification class for the 10 possible digits"
   ]
  },
  {
   "cell_type": "code",
   "execution_count": 23,
   "metadata": {},
   "outputs": [],
   "source": [
    "hold_prob = tf.placeholder(dtype=tf.float32)"
   ]
  },
  {
   "cell_type": "code",
   "execution_count": 24,
   "metadata": {},
   "outputs": [],
   "source": [
    "# define the dropout layer\n",
    "def drop(x,hold_prob):\n",
    "    return tf.nn.dropout(x, keep_prob=hold_prob)"
   ]
  },
  {
   "cell_type": "code",
   "execution_count": 25,
   "metadata": {},
   "outputs": [],
   "source": [
    "# Layer 1 : convolution with 5X5 filter  + 2X2 Poll\n",
    "X_1 = convolution_layer(X_image,[5,5,1,32])\n",
    "X_1_poll = pool_2(X_1)"
   ]
  },
  {
   "cell_type": "code",
   "execution_count": 26,
   "metadata": {},
   "outputs": [],
   "source": [
    "# Layer 2 : convolution with 5X5 filter + 2X2 Poll\n",
    "X_2 = convolution_layer(X_1_poll,[5,5,32,64])\n",
    "X_2_poll = pool_2(X_2)"
   ]
  },
  {
   "cell_type": "code",
   "execution_count": 27,
   "metadata": {},
   "outputs": [],
   "source": [
    "# Flatten the image\n",
    "X_3 = tf.reshape(X_2_poll,[-1,7*7*64]) # First dimesion should be batch_size"
   ]
  },
  {
   "cell_type": "code",
   "execution_count": 28,
   "metadata": {},
   "outputs": [],
   "source": [
    "# Layer 3 : Dense Network with flattened image\n",
    "X_3_1 = dense_layer(X_3,1024)\n",
    "X_3_drop = drop(X_3_1,hold_prob)"
   ]
  },
  {
   "cell_type": "code",
   "execution_count": 29,
   "metadata": {},
   "outputs": [],
   "source": [
    "# Layer 4 : Dense layer\n",
    "X_4 = dense_layer(X_3_drop,10)"
   ]
  },
  {
   "cell_type": "code",
   "execution_count": 30,
   "metadata": {},
   "outputs": [],
   "source": [
    "y_pred = X_4"
   ]
  },
  {
   "cell_type": "code",
   "execution_count": 31,
   "metadata": {},
   "outputs": [
    {
     "name": "stdout",
     "output_type": "stream",
     "text": [
      "WARNING:tensorflow:From <ipython-input-31-c0c5302186d2>:2: softmax_cross_entropy_with_logits (from tensorflow.python.ops.nn_ops) is deprecated and will be removed in a future version.\n",
      "Instructions for updating:\n",
      "\n",
      "Future major versions of TensorFlow will allow gradients to flow\n",
      "into the labels input on backprop by default.\n",
      "\n",
      "See @{tf.nn.softmax_cross_entropy_with_logits_v2}.\n",
      "\n"
     ]
    }
   ],
   "source": [
    "# define the loss metric\n",
    "loss = tf.reduce_sum(tf.nn.softmax_cross_entropy_with_logits(labels=y,logits=y_pred))"
   ]
  },
  {
   "cell_type": "code",
   "execution_count": 32,
   "metadata": {},
   "outputs": [],
   "source": [
    "# define the optimizer\n",
    "model = tf.train.AdamOptimizer(learning_rate=0.0001)"
   ]
  },
  {
   "cell_type": "code",
   "execution_count": 33,
   "metadata": {},
   "outputs": [],
   "source": [
    "train = model.minimize(loss)"
   ]
  },
  {
   "cell_type": "code",
   "execution_count": 34,
   "metadata": {},
   "outputs": [],
   "source": [
    "# Initate the tensorflow session "
   ]
  },
  {
   "cell_type": "code",
   "execution_count": 35,
   "metadata": {},
   "outputs": [],
   "source": [
    "init = tf.global_variables_initializer()"
   ]
  },
  {
   "cell_type": "code",
   "execution_count": 36,
   "metadata": {},
   "outputs": [],
   "source": [
    "steps,batch_size = 5000,50"
   ]
  },
  {
   "cell_type": "code",
   "execution_count": 37,
   "metadata": {},
   "outputs": [
    {
     "name": "stdout",
     "output_type": "stream",
     "text": [
      "Currently on step 0\n",
      "Accuracy is:\n",
      "18.57\n",
      "Currently on step 100\n",
      "Accuracy is:\n",
      "91.67\n",
      "Currently on step 200\n",
      "Accuracy is:\n",
      "93.76\n",
      "Currently on step 300\n",
      "Accuracy is:\n",
      "96.69\n",
      "Currently on step 400\n",
      "Accuracy is:\n",
      "97.28\n",
      "Currently on step 500\n",
      "Accuracy is:\n",
      "97.69\n",
      "Currently on step 600\n",
      "Accuracy is:\n",
      "97.76\n",
      "Currently on step 700\n",
      "Accuracy is:\n",
      "98.05\n",
      "Currently on step 800\n",
      "Accuracy is:\n",
      "97.87\n",
      "Currently on step 900\n",
      "Accuracy is:\n",
      "98.06\n",
      "Currently on step 1000\n",
      "Accuracy is:\n",
      "98.11\n",
      "Currently on step 1100\n",
      "Accuracy is:\n",
      "98.53\n",
      "Currently on step 1200\n",
      "Accuracy is:\n",
      "97.8\n",
      "Currently on step 1300\n",
      "Accuracy is:\n",
      "97.6\n",
      "Currently on step 1400\n",
      "Accuracy is:\n",
      "97.6\n",
      "Currently on step 1500\n",
      "Accuracy is:\n",
      "97.6\n",
      "Currently on step 1600\n",
      "Accuracy is:\n",
      "97.6\n",
      "Currently on step 1700\n",
      "Accuracy is:\n",
      "97.6\n",
      "Currently on step 1800\n",
      "Accuracy is:\n",
      "97.6\n",
      "Currently on step 1900\n",
      "Accuracy is:\n",
      "97.6\n",
      "Currently on step 2000\n",
      "Accuracy is:\n",
      "97.6\n",
      "Currently on step 2100\n",
      "Accuracy is:\n",
      "97.6\n",
      "Currently on step 2200\n",
      "Accuracy is:\n",
      "97.6\n",
      "Currently on step 2300\n",
      "Accuracy is:\n",
      "97.6\n",
      "Currently on step 2400\n",
      "Accuracy is:\n",
      "97.6\n",
      "Currently on step 2500\n",
      "Accuracy is:\n",
      "97.6\n",
      "Currently on step 2600\n",
      "Accuracy is:\n",
      "97.6\n",
      "Currently on step 2700\n",
      "Accuracy is:\n",
      "97.6\n",
      "Currently on step 2800\n",
      "Accuracy is:\n",
      "97.6\n",
      "Currently on step 2900\n",
      "Accuracy is:\n",
      "97.6\n",
      "Currently on step 3000\n",
      "Accuracy is:\n",
      "97.6\n",
      "Currently on step 3100\n",
      "Accuracy is:\n",
      "97.6\n",
      "Currently on step 3200\n",
      "Accuracy is:\n",
      "97.6\n",
      "Currently on step 3300\n",
      "Accuracy is:\n",
      "97.6\n",
      "Currently on step 3400\n",
      "Accuracy is:\n",
      "97.6\n",
      "Currently on step 3500\n",
      "Accuracy is:\n",
      "97.6\n",
      "Currently on step 3600\n",
      "Accuracy is:\n",
      "97.6\n",
      "Currently on step 3700\n",
      "Accuracy is:\n",
      "97.6\n",
      "Currently on step 3800\n",
      "Accuracy is:\n",
      "97.6\n",
      "Currently on step 3900\n",
      "Accuracy is:\n",
      "97.6\n",
      "Currently on step 4000\n",
      "Accuracy is:\n",
      "97.6\n",
      "Currently on step 4100\n",
      "Accuracy is:\n",
      "97.6\n",
      "Currently on step 4200\n",
      "Accuracy is:\n",
      "97.6\n",
      "Currently on step 4300\n",
      "Accuracy is:\n",
      "97.6\n",
      "Currently on step 4400\n",
      "Accuracy is:\n",
      "97.6\n",
      "Currently on step 4500\n",
      "Accuracy is:\n",
      "97.6\n",
      "Currently on step 4600\n",
      "Accuracy is:\n",
      "97.6\n",
      "Currently on step 4700\n",
      "Accuracy is:\n",
      "97.6\n",
      "Currently on step 4800\n",
      "Accuracy is:\n",
      "97.6\n",
      "Currently on step 4900\n",
      "Accuracy is:\n",
      "97.6\n"
     ]
    }
   ],
   "source": [
    "with tf.Session() as sess:\n",
    "    sess.run(init)\n",
    "    for itr in range(steps):\n",
    "        X_batch,y_batch = get_next_batch(train_images,train_labels,itr,batch_size)\n",
    "        sess.run(train, feed_dict = {X:X_batch,y:y_batch,hold_prob:0.5})\n",
    "        if (itr % 100 == 0):\n",
    "            # tf.equal will return a boolean array [100010111100000....batch_size]\n",
    "            # tf.reduce_mean will find percentage of 1s = percentage of correct classifications\n",
    "            print('Currently on step {}'.format(itr))\n",
    "            print('Accuracy is:')\n",
    "            performance = tf.reduce_mean(tf.cast(tf.equal(tf.argmax(y,1),tf.argmax(y_pred,1)),tf.float64))\n",
    "            print(sess.run(100*performance, feed_dict = {X:test_images,y:test_labels,hold_prob:1}))"
   ]
  },
  {
   "cell_type": "code",
   "execution_count": null,
   "metadata": {},
   "outputs": [],
   "source": []
  }
 ],
 "metadata": {
  "kernelspec": {
   "display_name": "Python 3",
   "language": "python",
   "name": "python3"
  },
  "language_info": {
   "codemirror_mode": {
    "name": "ipython",
    "version": 3
   },
   "file_extension": ".py",
   "mimetype": "text/x-python",
   "name": "python",
   "nbconvert_exporter": "python",
   "pygments_lexer": "ipython3",
   "version": "3.6.4"
  }
 },
 "nbformat": 4,
 "nbformat_minor": 2
}
